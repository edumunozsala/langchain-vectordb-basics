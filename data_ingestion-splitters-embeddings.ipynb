{
 "cells": [
  {
   "cell_type": "markdown",
   "metadata": {},
   "source": [
    "# Text Splitters\n",
    "\n",
    "## Introduction\n",
    "\n",
    "Large Language Models, while recognized for creating human-like text, can also \"hallucinate\" and produce seemingly plausible yet incorrect or nonsensical information. Interestingly, this tendency can be advantageous in creative tasks, as it generates a range of unique and imaginative ideas, sparking new perspectives and driving the creative process. However, this poses a challenge in situations where accuracy is critical, such as code reviews, insurance-related tasks, or research question responses.\n",
    "\n",
    "One approach to mitigating hallucination is to provide documents as sources of information to the LLM and ask it to generate an answer based on the knowledge extracted from the document. This can help reduce the likelihood of hallucination, and users can verify the information with the source document."
   ]
  },
  {
   "cell_type": "markdown",
   "metadata": {},
   "source": [
    "Addressing another challenge, LLMs have a maximum prompt size, preventing them from feeding entire documents. This makes it crucial to divide documents into smaller parts, and Text Splitters prove to be extremely useful in achieving this. Text Splitters help break down large text documents into smaller, more digestible pieces that language models can process more effectively.\n",
    "\n",
    "Using a Text Splitter can also improve vector store search results, as smaller segments might be more likely to match a query. Experimenting with different chunk sizes and overlaps can be beneficial in tailoring results to suit your specific needs."
   ]
  },
  {
   "cell_type": "markdown",
   "metadata": {},
   "source": [
    "## Character Text Splitter\n",
    "\n",
    "This type of splitter can be used in various scenarios where you must split long text pieces into smaller, semantically meaningful chunks. For example, you might use it to split a long article into smaller chunks for easier processing or analysis. The splitter allows you to customize the chunking process along two axes - chunk size and chunk overlap - to balance the trade-offs between splitting the text into manageable pieces and preserving semantic context between chunks."
   ]
  },
  {
   "cell_type": "code",
   "execution_count": 2,
   "metadata": {},
   "outputs": [
    {
     "name": "stdout",
     "output_type": "stream",
     "text": [
      "page_content='THE ONE     PAGE LINUX MANUALA summary of useful Linux commands\\nVersion 3.0 May 1999 squadron@powerup.com.au\\nStarting & Stopping\\nshutdown -h now Shutdown the system now and do not\\nreboot\\nhalt Stop all processes - same as above\\nshutdown -r 5 Shutdown the system in 5 minutes and\\nreboot\\nshutdown -r now Shutdown the system now and reboot\\nreboot Stop all processes and then reboot - same\\nas above\\nstartx Start the X system\\nAccessing & mounting file systems\\nmount -t iso9660 /dev/cdrom\\n/mnt/cdromMount the device cdrom\\nand call it cdrom under the\\n/mnt directory\\nmount -t msdos /dev/hdd\\n/mnt/ddriveMount hard disk “d” as a\\nmsdos file system and call\\nit ddrive under the /mnt\\ndirectory\\nmount -t vfat /dev/hda1\\n/mnt/cdriveMount hard disk “a” as a\\nVFAT file system and call it\\ncdrive under the /mnt\\ndirectory\\numount /mnt/cdrom Unmount the cdrom\\nFinding files and text within files\\nfind / -name  fname Starting with the root directory, look\\nfor the file called fname\\nfind / -name ”*fname* ” Starting with the root directory, look\\nfor the file containing the string fname\\nlocate missingfilename Find a file called missingfilename\\nusing the locate command - this\\nassumes you have already used the\\ncommand updatedb (see next)\\nupdatedb Create or update the database of files\\non all file systems attached to the linux\\nroot directory\\nwhich missingfilename Show the subdirectory containing the\\nexecutable file  called missingfilename\\ngrep textstringtofind\\n/dirStarting with the directory called dir ,\\nlook for and list all files containing\\ntextstringtofind\\nThe X Window System\\nxvidtune Run the X graphics tuning utility\\nXF86Setup Run the X configuration menu with\\nautomatic probing of graphics cards\\nXconfigurator Run another X configuration menu with\\nautomatic probing of graphics cards\\nxf86config Run a text based X configuration menu\\nMoving, copying, deleting & viewing files\\nls -l List files in current directory using\\nlong format\\nls -F List files in current directory and\\nindicate the file type\\nls -laC List all files in current directory in\\nlong format and display in columnsrm name Remove a file or directory called\\nname\\nrm -rf name Kill off an entire directory and all it’s\\nincludes files and subdirectories\\ncp filename\\n/home/dirnameCopy the file called filename to the\\n/home/dirname directory\\nmv filename\\n/home/dirnameMove the file called filename to the\\n/home/dirname directory\\ncat filetoview Display the file called filetoview\\nman -k keyword Display man pages containing\\nkeyword\\nmore filetoview Display the file called filetoview one\\npage at a time, proceed to next page\\nusing the spacebar\\nhead filetoview Display the first 10 lines of the file\\ncalled filetoview\\nhead -20 filetoview Display the first 20 lines of the file\\ncalled filetoview\\ntail filetoview Display the last 10 lines of the file\\ncalled filetoview\\ntail -20 filetoview Display the last 20 lines of the file\\ncalled filetoview\\nInstalling software for Linux\\nrpm -ihv name.rpm Install the rpm package called name\\nrpm -Uhv name.rpm Upgrade the rpm package called\\nname\\nrpm -e package Delete the rpm package called\\npackage\\nrpm -l package List the files in the package called\\npackage\\nrpm -ql package List the files and state the installed\\nversion of the package called\\npackage\\nrpm -i --force package Reinstall the rpm package called\\nname having deleted parts of it (not\\ndeleting using rpm -e)\\ntar -zxvf archive.tar.gz or\\ntar -zxvf archive.tgzDecompress the files contained in\\nthe zipped and tarred archive called\\narchive\\n./configure Execute the script preparing the\\ninstalled files for compiling\\nUser Administration\\nadduser accountname Create a new user call accountname\\npasswd accountname Give accountname a new password\\nsu Log in as superuser from current login\\nexit Stop being superuser and revert to\\nnormal user\\nLittle known tips and tricks\\nifconfig List ip addresses for all devices on\\nthe machine\\napropos subject List manual pages for subject\\nusermount Executes graphical application for\\nmounting and unmounting file\\nsystems' metadata={'source': 'data/The One Page Linux Manual.pdf', 'page': 0}\n",
      "You have 2 documents\n",
      "Preview:\n",
      "THE ONE     PAGE LINUX MANUALA summary of useful Linux commands\n",
      "Version 3.0 May 1999 squadron@powerup.com.au\n",
      "Starting & Stopping\n",
      "shutdown -h now Shutdown the system now and do not\n",
      "reboot\n",
      "halt Stop all processes - same as above\n",
      "shutdown -r 5 Shutdown the system in 5 minutes and\n",
      "reboot\n",
      "shutdown -r now Shutdown the system now and reboot\n",
      "reboot Stop all processes and then reboot - same\n",
      "as above\n",
      "startx Start the X system\n",
      "Accessing & mounting file systems\n",
      "mount -t iso9660 /dev/cdrom\n",
      "/mnt/cdromMount the device cdrom\n",
      "and call it cdrom under the\n",
      "/mnt directory\n",
      "mount -t msdos /dev/hdd\n",
      "/mnt/ddriveMount hard disk “d” as a\n",
      "msdos file system and call\n",
      "it ddrive under the /mnt\n",
      "directory\n",
      "mount -t vfat /dev/hda1\n",
      "/mnt/cdriveMount hard disk “a” as a\n",
      "VFAT file system and call it\n",
      "cdrive under the /mnt\n",
      "directory\n",
      "umount /mnt/cdrom Unmount the cdrom\n",
      "Finding files and text within files\n",
      "find / -name  fname Starting with the root directory, look\n",
      "for the file called fname\n",
      "find / -name ”*fname* ” Starting with the root directory, look\n",
      "for the file containing the string fname\n",
      "locate missingfilename Find a file called missingfilename\n",
      "using the locate command - this\n",
      "assumes you have already used the\n",
      "command updatedb (see next)\n",
      "updatedb Create or update the database of files\n",
      "on all file systems attached to the linux\n",
      "root directory\n",
      "which missingfilename Show the subdirectory containing the\n",
      "executable file  called missingfilename\n",
      "grep textstringtofind\n",
      "/dirStarting with the directory called dir ,\n",
      "look for and list all files containing\n",
      "textstringtofind\n",
      "The X Window System\n",
      "xvidtune Run the X graphics tuning utility\n",
      "XF86Setup Run the X configuration menu with\n",
      "automatic probing of graphics cards\n",
      "Xconfigurator Run another X configuration menu with\n",
      "automatic probing of graphics cards\n",
      "xf86config Run a text based X configuration menu\n",
      "Moving, copying, deleting & viewing files\n",
      "ls -l List files in current directory using\n",
      "long format\n",
      "ls -F List files in current directory and\n",
      "indicate the file type\n",
      "ls -laC List all files in current directory in\n",
      "long format and display in columnsrm name Remove a file or directory called\n",
      "name\n",
      "rm -rf name Kill off an entire directory and all it’s\n",
      "includes files and subdirectories\n",
      "cp filename\n",
      "/home/dirnameCopy the file called filename to the\n",
      "/home/dirname directory\n",
      "mv filename\n",
      "/home/dirnameMove the file called filename to the\n",
      "/home/dirname directory\n",
      "cat filetoview Display the file called filetoview\n",
      "man -k keyword Display man pages containing\n",
      "keyword\n",
      "more filetoview Display the file called filetoview one\n",
      "page at a time, proceed to next page\n",
      "using the spacebar\n",
      "head filetoview Display the first 10 lines of the file\n",
      "called filetoview\n",
      "head -20 filetoview Display the first 20 lines of the file\n",
      "called filetoview\n",
      "tail filetoview Display the last 10 lines of the file\n",
      "called filetoview\n",
      "tail -20 filetoview Display the last 20 lines of the file\n",
      "called filetoview\n",
      "Installing software for Linux\n",
      "rpm -ihv name.rpm Install the rpm package called name\n",
      "rpm -Uhv name.rpm Upgrade the rpm package called\n",
      "name\n",
      "rpm -e package Delete the rpm package called\n",
      "package\n",
      "rpm -l package List the files in the package called\n",
      "package\n",
      "rpm -ql package List the files and state the installed\n",
      "version of the package called\n",
      "package\n",
      "rpm -i --force package Reinstall the rpm package called\n",
      "name having deleted parts of it (not\n",
      "deleting using rpm -e)\n",
      "tar -zxvf archive.tar.gz or\n",
      "tar -zxvf archive.tgzDecompress the files contained in\n",
      "the zipped and tarred archive called\n",
      "archive\n",
      "./configure Execute the script preparing the\n",
      "installed files for compiling\n",
      "User Administration\n",
      "adduser accountname Create a new user call accountname\n",
      "passwd accountname Give accountname a new password\n",
      "su Log in as superuser from current login\n",
      "exit Stop being superuser and revert to\n",
      "normal user\n",
      "Little known tips and tricks\n",
      "ifconfig List ip addresses for all devices on\n",
      "the machine\n",
      "apropos subject List manual pages for subject\n",
      "usermount Executes graphical application for\n",
      "mounting and unmounting file\n",
      "systems\n"
     ]
    }
   ],
   "source": [
    "from langchain.document_loaders import PyPDFLoader\n",
    "from langchain.text_splitter import CharacterTextSplitter\n",
    "\n",
    "# Set file name\n",
    "file_name = \"data/The One Page Linux Manual.pdf\"\n",
    "# Load the PDF file\n",
    "loader = PyPDFLoader(file_name)\n",
    "pages = loader.load_and_split()\n",
    "\n",
    "# Split the texts into chunks\n",
    "text_splitter = CharacterTextSplitter(chunk_size=1000, chunk_overlap=20)\n",
    "texts = text_splitter.split_documents(pages)\n",
    "# Show the results\n",
    "print(texts[0])\n",
    "\n",
    "print (f\"You have {len(texts)} documents\")\n",
    "print (\"Preview:\")\n",
    "print (texts[0].page_content)"
   ]
  },
  {
   "cell_type": "markdown",
   "metadata": {},
   "source": [
    "## Recursive Character Text Splitter\n",
    "\n",
    "The Recursive Character Text Splitter is a text splitter designed to split the text into chunks based on a list of characters provided. It attempts to split text using the characters from a list in order until the resulting chunks are small enough. By default, the list of characters used for splitting is [\"\\n\\n\", \"\\n\", \" \", \"], which tries to keep paragraphs, sentences, and words together as long as possible, as they are generally the most semantically related pieces of text. This means that the class first tries to split the text into two new-line characters. If the resulting chunks are still larger than the desired chunk size, it will then try to split the output by a single new-line character, followed by a space character, and so on, until the desired chunk size is achieved.\n",
    "\n",
    "To use the RecursiveCharacterTextSplitter, you can create an instance of it and provide the following parameters:\n",
    "\n",
    "- chunk_size : The maximum size of the chunks, as measured by the length_function (default is 100).\n",
    "- chunk_overlap: The maximum overlap between chunks to maintain continuity between them (default is 20).\n",
    "\n",
    "length_function: parameter is used to calculate the length of the chunks. By default, it is set to len, which counts the number of characters in a chunk. However, you can also pass a token counter or any other function that calculates the length of a chunk based on your specific requirements."
   ]
  },
  {
   "cell_type": "code",
   "execution_count": 3,
   "metadata": {},
   "outputs": [
    {
     "name": "stdout",
     "output_type": "stream",
     "text": [
      "page_content='THE ONE     PAGE LINUX MANUALA summary of useful' metadata={'source': 'data/The One Page Linux Manual.pdf', 'page': 0}\n",
      "page_content='of useful Linux commands' metadata={'source': 'data/The One Page Linux Manual.pdf', 'page': 0}\n",
      "page_content='Version 3.0 May 1999 squadron@powerup.com.au' metadata={'source': 'data/The One Page Linux Manual.pdf', 'page': 0}\n",
      "page_content='Starting & Stopping' metadata={'source': 'data/The One Page Linux Manual.pdf', 'page': 0}\n",
      "page_content='shutdown -h now Shutdown the system now and do not' metadata={'source': 'data/The One Page Linux Manual.pdf', 'page': 0}\n",
      "page_content='reboot\\nhalt Stop all processes - same as above' metadata={'source': 'data/The One Page Linux Manual.pdf', 'page': 0}\n",
      "page_content='shutdown -r 5 Shutdown the system in 5 minutes and' metadata={'source': 'data/The One Page Linux Manual.pdf', 'page': 0}\n",
      "page_content='reboot' metadata={'source': 'data/The One Page Linux Manual.pdf', 'page': 0}\n",
      "page_content='shutdown -r now Shutdown the system now and reboot' metadata={'source': 'data/The One Page Linux Manual.pdf', 'page': 0}\n",
      "page_content='reboot Stop all processes and then reboot - same' metadata={'source': 'data/The One Page Linux Manual.pdf', 'page': 0}\n",
      "page_content='as above\\nstartx Start the X system' metadata={'source': 'data/The One Page Linux Manual.pdf', 'page': 0}\n",
      "page_content='Accessing & mounting file systems' metadata={'source': 'data/The One Page Linux Manual.pdf', 'page': 0}\n",
      "page_content='mount -t iso9660 /dev/cdrom' metadata={'source': 'data/The One Page Linux Manual.pdf', 'page': 0}\n",
      "page_content='/mnt/cdromMount the device cdrom' metadata={'source': 'data/The One Page Linux Manual.pdf', 'page': 0}\n",
      "page_content='and call it cdrom under the\\n/mnt directory' metadata={'source': 'data/The One Page Linux Manual.pdf', 'page': 0}\n",
      "page_content='mount -t msdos /dev/hdd' metadata={'source': 'data/The One Page Linux Manual.pdf', 'page': 0}\n",
      "page_content='/mnt/ddriveMount hard disk “d” as a' metadata={'source': 'data/The One Page Linux Manual.pdf', 'page': 0}\n",
      "page_content='msdos file system and call' metadata={'source': 'data/The One Page Linux Manual.pdf', 'page': 0}\n",
      "page_content='it ddrive under the /mnt\\ndirectory' metadata={'source': 'data/The One Page Linux Manual.pdf', 'page': 0}\n",
      "page_content='directory\\nmount -t vfat /dev/hda1' metadata={'source': 'data/The One Page Linux Manual.pdf', 'page': 0}\n",
      "page_content='/mnt/cdriveMount hard disk “a” as a' metadata={'source': 'data/The One Page Linux Manual.pdf', 'page': 0}\n",
      "page_content='VFAT file system and call it\\ncdrive under the /mnt' metadata={'source': 'data/The One Page Linux Manual.pdf', 'page': 0}\n",
      "page_content='directory\\numount /mnt/cdrom Unmount the cdrom' metadata={'source': 'data/The One Page Linux Manual.pdf', 'page': 0}\n",
      "page_content='Finding files and text within files' metadata={'source': 'data/The One Page Linux Manual.pdf', 'page': 0}\n",
      "page_content='find / -name  fname Starting with the root' metadata={'source': 'data/The One Page Linux Manual.pdf', 'page': 0}\n",
      "page_content='the root directory, look' metadata={'source': 'data/The One Page Linux Manual.pdf', 'page': 0}\n",
      "page_content='for the file called fname' metadata={'source': 'data/The One Page Linux Manual.pdf', 'page': 0}\n",
      "page_content='find / -name ”*fname* ” Starting with the root' metadata={'source': 'data/The One Page Linux Manual.pdf', 'page': 0}\n",
      "page_content='the root directory, look' metadata={'source': 'data/The One Page Linux Manual.pdf', 'page': 0}\n",
      "page_content='for the file containing the string fname' metadata={'source': 'data/The One Page Linux Manual.pdf', 'page': 0}\n",
      "page_content='locate missingfilename Find a file called' metadata={'source': 'data/The One Page Linux Manual.pdf', 'page': 0}\n",
      "page_content='called missingfilename' metadata={'source': 'data/The One Page Linux Manual.pdf', 'page': 0}\n",
      "page_content='using the locate command - this' metadata={'source': 'data/The One Page Linux Manual.pdf', 'page': 0}\n",
      "page_content='assumes you have already used the' metadata={'source': 'data/The One Page Linux Manual.pdf', 'page': 0}\n",
      "page_content='command updatedb (see next)' metadata={'source': 'data/The One Page Linux Manual.pdf', 'page': 0}\n",
      "page_content='updatedb Create or update the database of files' metadata={'source': 'data/The One Page Linux Manual.pdf', 'page': 0}\n",
      "page_content='on all file systems attached to the linux' metadata={'source': 'data/The One Page Linux Manual.pdf', 'page': 0}\n",
      "page_content='root directory' metadata={'source': 'data/The One Page Linux Manual.pdf', 'page': 0}\n",
      "page_content='which missingfilename Show the subdirectory' metadata={'source': 'data/The One Page Linux Manual.pdf', 'page': 0}\n",
      "page_content='containing the' metadata={'source': 'data/The One Page Linux Manual.pdf', 'page': 0}\n",
      "page_content='executable file  called missingfilename' metadata={'source': 'data/The One Page Linux Manual.pdf', 'page': 0}\n",
      "page_content='grep textstringtofind' metadata={'source': 'data/The One Page Linux Manual.pdf', 'page': 0}\n",
      "page_content='/dirStarting with the directory called dir ,' metadata={'source': 'data/The One Page Linux Manual.pdf', 'page': 0}\n",
      "page_content='look for and list all files containing' metadata={'source': 'data/The One Page Linux Manual.pdf', 'page': 0}\n",
      "page_content='textstringtofind\\nThe X Window System' metadata={'source': 'data/The One Page Linux Manual.pdf', 'page': 0}\n",
      "page_content='xvidtune Run the X graphics tuning utility' metadata={'source': 'data/The One Page Linux Manual.pdf', 'page': 0}\n",
      "page_content='XF86Setup Run the X configuration menu with' metadata={'source': 'data/The One Page Linux Manual.pdf', 'page': 0}\n",
      "page_content='automatic probing of graphics cards' metadata={'source': 'data/The One Page Linux Manual.pdf', 'page': 0}\n",
      "page_content='Xconfigurator Run another X configuration menu' metadata={'source': 'data/The One Page Linux Manual.pdf', 'page': 0}\n",
      "page_content='menu with' metadata={'source': 'data/The One Page Linux Manual.pdf', 'page': 0}\n",
      "page_content='automatic probing of graphics cards' metadata={'source': 'data/The One Page Linux Manual.pdf', 'page': 0}\n",
      "page_content='xf86config Run a text based X configuration menu' metadata={'source': 'data/The One Page Linux Manual.pdf', 'page': 0}\n",
      "page_content='Moving, copying, deleting & viewing files' metadata={'source': 'data/The One Page Linux Manual.pdf', 'page': 0}\n",
      "page_content='ls -l List files in current directory using' metadata={'source': 'data/The One Page Linux Manual.pdf', 'page': 0}\n",
      "page_content='long format' metadata={'source': 'data/The One Page Linux Manual.pdf', 'page': 0}\n",
      "page_content='ls -F List files in current directory and' metadata={'source': 'data/The One Page Linux Manual.pdf', 'page': 0}\n",
      "page_content='indicate the file type' metadata={'source': 'data/The One Page Linux Manual.pdf', 'page': 0}\n",
      "page_content='ls -laC List all files in current directory in' metadata={'source': 'data/The One Page Linux Manual.pdf', 'page': 0}\n",
      "page_content='long format and display in columnsrm name Remove a' metadata={'source': 'data/The One Page Linux Manual.pdf', 'page': 0}\n",
      "page_content='Remove a file or directory called' metadata={'source': 'data/The One Page Linux Manual.pdf', 'page': 0}\n",
      "page_content='name' metadata={'source': 'data/The One Page Linux Manual.pdf', 'page': 0}\n",
      "page_content='rm -rf name Kill off an entire directory and all' metadata={'source': 'data/The One Page Linux Manual.pdf', 'page': 0}\n",
      "page_content='and all it’s' metadata={'source': 'data/The One Page Linux Manual.pdf', 'page': 0}\n",
      "page_content='includes files and subdirectories\\ncp filename' metadata={'source': 'data/The One Page Linux Manual.pdf', 'page': 0}\n",
      "page_content='/home/dirnameCopy the file called filename to the' metadata={'source': 'data/The One Page Linux Manual.pdf', 'page': 0}\n",
      "page_content='/home/dirname directory\\nmv filename' metadata={'source': 'data/The One Page Linux Manual.pdf', 'page': 0}\n",
      "page_content='/home/dirnameMove the file called filename to the' metadata={'source': 'data/The One Page Linux Manual.pdf', 'page': 0}\n",
      "page_content='/home/dirname directory' metadata={'source': 'data/The One Page Linux Manual.pdf', 'page': 0}\n",
      "page_content='cat filetoview Display the file called filetoview' metadata={'source': 'data/The One Page Linux Manual.pdf', 'page': 0}\n",
      "page_content='man -k keyword Display man pages containing' metadata={'source': 'data/The One Page Linux Manual.pdf', 'page': 0}\n",
      "page_content='keyword' metadata={'source': 'data/The One Page Linux Manual.pdf', 'page': 0}\n",
      "page_content='more filetoview Display the file called filetoview' metadata={'source': 'data/The One Page Linux Manual.pdf', 'page': 0}\n",
      "page_content='filetoview one' metadata={'source': 'data/The One Page Linux Manual.pdf', 'page': 0}\n",
      "page_content='page at a time, proceed to next page' metadata={'source': 'data/The One Page Linux Manual.pdf', 'page': 0}\n",
      "page_content='using the spacebar' metadata={'source': 'data/The One Page Linux Manual.pdf', 'page': 0}\n",
      "page_content='head filetoview Display the first 10 lines of the' metadata={'source': 'data/The One Page Linux Manual.pdf', 'page': 0}\n",
      "page_content='of the file' metadata={'source': 'data/The One Page Linux Manual.pdf', 'page': 0}\n",
      "page_content='called filetoview' metadata={'source': 'data/The One Page Linux Manual.pdf', 'page': 0}\n",
      "page_content='head -20 filetoview Display the first 20 lines of' metadata={'source': 'data/The One Page Linux Manual.pdf', 'page': 0}\n",
      "page_content='lines of the file' metadata={'source': 'data/The One Page Linux Manual.pdf', 'page': 0}\n",
      "page_content='called filetoview' metadata={'source': 'data/The One Page Linux Manual.pdf', 'page': 0}\n",
      "page_content='tail filetoview Display the last 10 lines of the' metadata={'source': 'data/The One Page Linux Manual.pdf', 'page': 0}\n",
      "page_content='of the file' metadata={'source': 'data/The One Page Linux Manual.pdf', 'page': 0}\n",
      "page_content='called filetoview' metadata={'source': 'data/The One Page Linux Manual.pdf', 'page': 0}\n",
      "page_content='tail -20 filetoview Display the last 20 lines of' metadata={'source': 'data/The One Page Linux Manual.pdf', 'page': 0}\n",
      "page_content='lines of the file' metadata={'source': 'data/The One Page Linux Manual.pdf', 'page': 0}\n",
      "page_content='called filetoview\\nInstalling software for Linux' metadata={'source': 'data/The One Page Linux Manual.pdf', 'page': 0}\n",
      "page_content='rpm -ihv name.rpm Install the rpm package called' metadata={'source': 'data/The One Page Linux Manual.pdf', 'page': 0}\n",
      "page_content='called name' metadata={'source': 'data/The One Page Linux Manual.pdf', 'page': 0}\n",
      "page_content='rpm -Uhv name.rpm Upgrade the rpm package called' metadata={'source': 'data/The One Page Linux Manual.pdf', 'page': 0}\n",
      "page_content='name\\nrpm -e package Delete the rpm package called' metadata={'source': 'data/The One Page Linux Manual.pdf', 'page': 0}\n",
      "page_content='package' metadata={'source': 'data/The One Page Linux Manual.pdf', 'page': 0}\n",
      "page_content='rpm -l package List the files in the package' metadata={'source': 'data/The One Page Linux Manual.pdf', 'page': 0}\n",
      "page_content='package called' metadata={'source': 'data/The One Page Linux Manual.pdf', 'page': 0}\n",
      "page_content='package' metadata={'source': 'data/The One Page Linux Manual.pdf', 'page': 0}\n",
      "page_content='rpm -ql package List the files and state the' metadata={'source': 'data/The One Page Linux Manual.pdf', 'page': 0}\n",
      "page_content='state the installed' metadata={'source': 'data/The One Page Linux Manual.pdf', 'page': 0}\n",
      "page_content='version of the package called\\npackage' metadata={'source': 'data/The One Page Linux Manual.pdf', 'page': 0}\n",
      "page_content='rpm -i --force package Reinstall the rpm package' metadata={'source': 'data/The One Page Linux Manual.pdf', 'page': 0}\n",
      "page_content='package called' metadata={'source': 'data/The One Page Linux Manual.pdf', 'page': 0}\n",
      "page_content='name having deleted parts of it (not' metadata={'source': 'data/The One Page Linux Manual.pdf', 'page': 0}\n",
      "page_content='deleting using rpm -e)\\ntar -zxvf archive.tar.gz or' metadata={'source': 'data/The One Page Linux Manual.pdf', 'page': 0}\n",
      "page_content='tar -zxvf archive.tgzDecompress the files' metadata={'source': 'data/The One Page Linux Manual.pdf', 'page': 0}\n",
      "page_content='the files contained in' metadata={'source': 'data/The One Page Linux Manual.pdf', 'page': 0}\n",
      "page_content='the zipped and tarred archive called\\narchive' metadata={'source': 'data/The One Page Linux Manual.pdf', 'page': 0}\n",
      "page_content='./configure Execute the script preparing the' metadata={'source': 'data/The One Page Linux Manual.pdf', 'page': 0}\n",
      "page_content='installed files for compiling\\nUser Administration' metadata={'source': 'data/The One Page Linux Manual.pdf', 'page': 0}\n",
      "page_content='adduser accountname Create a new user call' metadata={'source': 'data/The One Page Linux Manual.pdf', 'page': 0}\n",
      "page_content='user call accountname' metadata={'source': 'data/The One Page Linux Manual.pdf', 'page': 0}\n",
      "page_content='passwd accountname Give accountname a new password' metadata={'source': 'data/The One Page Linux Manual.pdf', 'page': 0}\n",
      "page_content='su Log in as superuser from current login' metadata={'source': 'data/The One Page Linux Manual.pdf', 'page': 0}\n",
      "page_content='exit Stop being superuser and revert to' metadata={'source': 'data/The One Page Linux Manual.pdf', 'page': 0}\n",
      "page_content='normal user\\nLittle known tips and tricks' metadata={'source': 'data/The One Page Linux Manual.pdf', 'page': 0}\n",
      "page_content='ifconfig List ip addresses for all devices on' metadata={'source': 'data/The One Page Linux Manual.pdf', 'page': 0}\n",
      "page_content='the machine' metadata={'source': 'data/The One Page Linux Manual.pdf', 'page': 0}\n",
      "page_content='apropos subject List manual pages for subject' metadata={'source': 'data/The One Page Linux Manual.pdf', 'page': 0}\n",
      "page_content='usermount Executes graphical application for' metadata={'source': 'data/The One Page Linux Manual.pdf', 'page': 0}\n",
      "page_content='mounting and unmounting file\\nsystems' metadata={'source': 'data/The One Page Linux Manual.pdf', 'page': 0}\n",
      "page_content='/sbin/e2fsck hda5 Execute the filesystem check' metadata={'source': 'data/The One Page Linux Manual.pdf', 'page': 1}\n",
      "page_content='check utility' metadata={'source': 'data/The One Page Linux Manual.pdf', 'page': 1}\n",
      "page_content='on partition hda5' metadata={'source': 'data/The One Page Linux Manual.pdf', 'page': 1}\n",
      "page_content='fdformat /dev/fd0H1440 Format the floppy disk in' metadata={'source': 'data/The One Page Linux Manual.pdf', 'page': 1}\n",
      "page_content='disk in device fd0' metadata={'source': 'data/The One Page Linux Manual.pdf', 'page': 1}\n",
      "page_content='tar -cMf /dev/fd0 Backup the contents of the' metadata={'source': 'data/The One Page Linux Manual.pdf', 'page': 1}\n",
      "page_content='of the current' metadata={'source': 'data/The One Page Linux Manual.pdf', 'page': 1}\n",
      "page_content='directory and subdirectories to' metadata={'source': 'data/The One Page Linux Manual.pdf', 'page': 1}\n",
      "page_content='multiple floppy disks' metadata={'source': 'data/The One Page Linux Manual.pdf', 'page': 1}\n",
      "page_content='tail -f /var/log/messages Display the last 10' metadata={'source': 'data/The One Page Linux Manual.pdf', 'page': 1}\n",
      "page_content='last 10 lines of the system' metadata={'source': 'data/The One Page Linux Manual.pdf', 'page': 1}\n",
      "page_content='log.' metadata={'source': 'data/The One Page Linux Manual.pdf', 'page': 1}\n",
      "page_content='cat /var/log/dmesg Display the file containing the' metadata={'source': 'data/The One Page Linux Manual.pdf', 'page': 1}\n",
      "page_content='the boot' metadata={'source': 'data/The One Page Linux Manual.pdf', 'page': 1}\n",
      "page_content='time messages - useful for locating' metadata={'source': 'data/The One Page Linux Manual.pdf', 'page': 1}\n",
      "page_content='problems. Alternatively, use the\\ndmesg  command.' metadata={'source': 'data/The One Page Linux Manual.pdf', 'page': 1}\n",
      "page_content='* wildcard - represents everything. eg.' metadata={'source': 'data/The One Page Linux Manual.pdf', 'page': 1}\n",
      "page_content='cp from/* to  will copy all files in the' metadata={'source': 'data/The One Page Linux Manual.pdf', 'page': 1}\n",
      "page_content='from directory to the to directory' metadata={'source': 'data/The One Page Linux Manual.pdf', 'page': 1}\n",
      "page_content='? Single character wildcard. eg.' metadata={'source': 'data/The One Page Linux Manual.pdf', 'page': 1}\n",
      "page_content='cp config.? /configs will copy all files' metadata={'source': 'data/The One Page Linux Manual.pdf', 'page': 1}\n",
      "page_content='beginning with the name config. in' metadata={'source': 'data/The One Page Linux Manual.pdf', 'page': 1}\n",
      "page_content='the current directory to the directory' metadata={'source': 'data/The One Page Linux Manual.pdf', 'page': 1}\n",
      "page_content='named configs.' metadata={'source': 'data/The One Page Linux Manual.pdf', 'page': 1}\n",
      "page_content='[xyz] Choice of character wildcards. eg.' metadata={'source': 'data/The One Page Linux Manual.pdf', 'page': 1}\n",
      "page_content='ls [xyz]* will list all files in the current' metadata={'source': 'data/The One Page Linux Manual.pdf', 'page': 1}\n",
      "page_content='directory starting with the letter x, y,\\nor z.' metadata={'source': 'data/The One Page Linux Manual.pdf', 'page': 1}\n",
      "page_content='linux single At the lilo prompt, start in single' metadata={'source': 'data/The One Page Linux Manual.pdf', 'page': 1}\n",
      "page_content='in single user' metadata={'source': 'data/The One Page Linux Manual.pdf', 'page': 1}\n",
      "page_content='mode. This is useful if you have' metadata={'source': 'data/The One Page Linux Manual.pdf', 'page': 1}\n",
      "page_content='forgotten your password. Boot in' metadata={'source': 'data/The One Page Linux Manual.pdf', 'page': 1}\n",
      "page_content='single user mode, then run the\\npasswd  command.' metadata={'source': 'data/The One Page Linux Manual.pdf', 'page': 1}\n",
      "page_content='ps List current processes' metadata={'source': 'data/The One Page Linux Manual.pdf', 'page': 1}\n",
      "page_content='kill 123 Kill a specific process eg. kill 123' metadata={'source': 'data/The One Page Linux Manual.pdf', 'page': 1}\n",
      "page_content='Configuration files and what they do' metadata={'source': 'data/The One Page Linux Manual.pdf', 'page': 1}\n",
      "page_content='/etc/profile System wide environment variables for' metadata={'source': 'data/The One Page Linux Manual.pdf', 'page': 1}\n",
      "page_content='all users.' metadata={'source': 'data/The One Page Linux Manual.pdf', 'page': 1}\n",
      "page_content='/etc/fstab List of devices and their associated' metadata={'source': 'data/The One Page Linux Manual.pdf', 'page': 1}\n",
      "page_content='associated mount' metadata={'source': 'data/The One Page Linux Manual.pdf', 'page': 1}\n",
      "page_content='points. Edit this file to add cdroms, DOS' metadata={'source': 'data/The One Page Linux Manual.pdf', 'page': 1}\n",
      "page_content='partitions and floppy drives at startup.' metadata={'source': 'data/The One Page Linux Manual.pdf', 'page': 1}\n",
      "page_content='/etc/motd Message of the day broadcast to all' metadata={'source': 'data/The One Page Linux Manual.pdf', 'page': 1}\n",
      "page_content='to all users' metadata={'source': 'data/The One Page Linux Manual.pdf', 'page': 1}\n",
      "page_content='at login.' metadata={'source': 'data/The One Page Linux Manual.pdf', 'page': 1}\n",
      "page_content='etc/rc.d/rc.local Bash script that is executed at' metadata={'source': 'data/The One Page Linux Manual.pdf', 'page': 1}\n",
      "page_content='at the end of' metadata={'source': 'data/The One Page Linux Manual.pdf', 'page': 1}\n",
      "page_content='login process. Similar to autoexec.bat in\\nDOS.' metadata={'source': 'data/The One Page Linux Manual.pdf', 'page': 1}\n",
      "page_content='/etc/HOSTNAME Conatins full hostname including' metadata={'source': 'data/The One Page Linux Manual.pdf', 'page': 1}\n",
      "page_content='including domain.' metadata={'source': 'data/The One Page Linux Manual.pdf', 'page': 1}\n",
      "page_content='/etc/cron.* There are 4 directories that' metadata={'source': 'data/The One Page Linux Manual.pdf', 'page': 1}\n",
      "page_content='that automatically' metadata={'source': 'data/The One Page Linux Manual.pdf', 'page': 1}\n",
      "page_content='execute all scripts within the directory at' metadata={'source': 'data/The One Page Linux Manual.pdf', 'page': 1}\n",
      "page_content='intervals of hour, day, week or month.' metadata={'source': 'data/The One Page Linux Manual.pdf', 'page': 1}\n",
      "page_content='/etc/hosts A list of all know host names and IP' metadata={'source': 'data/The One Page Linux Manual.pdf', 'page': 1}\n",
      "page_content='addresses on the machine.' metadata={'source': 'data/The One Page Linux Manual.pdf', 'page': 1}\n",
      "page_content='/etc/httpd/conf Paramters for the Apache web' metadata={'source': 'data/The One Page Linux Manual.pdf', 'page': 1}\n",
      "page_content='Apache web server' metadata={'source': 'data/The One Page Linux Manual.pdf', 'page': 1}\n",
      "page_content='/etc/inittab Specifies the run level that the' metadata={'source': 'data/The One Page Linux Manual.pdf', 'page': 1}\n",
      "page_content='that the machine' metadata={'source': 'data/The One Page Linux Manual.pdf', 'page': 1}\n",
      "page_content='should boot into.' metadata={'source': 'data/The One Page Linux Manual.pdf', 'page': 1}\n",
      "page_content='/etc/resolv.conf Defines IP addresses of DNS' metadata={'source': 'data/The One Page Linux Manual.pdf', 'page': 1}\n",
      "page_content='of DNS servers.' metadata={'source': 'data/The One Page Linux Manual.pdf', 'page': 1}\n",
      "page_content='/etc/smb.conf Config file for the SAMBA server.' metadata={'source': 'data/The One Page Linux Manual.pdf', 'page': 1}\n",
      "page_content='server. Allows' metadata={'source': 'data/The One Page Linux Manual.pdf', 'page': 1}\n",
      "page_content='file and print sharing with Microsoft\\nclients.' metadata={'source': 'data/The One Page Linux Manual.pdf', 'page': 1}\n",
      "page_content='clients.\\n/etc/X11/XF86Confi' metadata={'source': 'data/The One Page Linux Manual.pdf', 'page': 1}\n",
      "page_content='gConfig file for X -Windows.' metadata={'source': 'data/The One Page Linux Manual.pdf', 'page': 1}\n",
      "page_content='~/.xinitrc Defines the windows manager loaded by' metadata={'source': 'data/The One Page Linux Manual.pdf', 'page': 1}\n",
      "page_content='X. ~ refers to user’s home directory.File' metadata={'source': 'data/The One Page Linux Manual.pdf', 'page': 1}\n",
      "page_content='permissions' metadata={'source': 'data/The One Page Linux Manual.pdf', 'page': 1}\n",
      "page_content='If the command ls -l is given, a long list of file' metadata={'source': 'data/The One Page Linux Manual.pdf', 'page': 1}\n",
      "page_content='of file names is' metadata={'source': 'data/The One Page Linux Manual.pdf', 'page': 1}\n",
      "page_content='displayed. The first column in this list details' metadata={'source': 'data/The One Page Linux Manual.pdf', 'page': 1}\n",
      "page_content='details the permissions' metadata={'source': 'data/The One Page Linux Manual.pdf', 'page': 1}\n",
      "page_content='applying to the file. If a permission is missing' metadata={'source': 'data/The One Page Linux Manual.pdf', 'page': 1}\n",
      "page_content='is missing for a owner,' metadata={'source': 'data/The One Page Linux Manual.pdf', 'page': 1}\n",
      "page_content='group of other, it is represented by - eg.  drwxr' metadata={'source': 'data/The One Page Linux Manual.pdf', 'page': 1}\n",
      "page_content='eg.  drwxr -x—x' metadata={'source': 'data/The One Page Linux Manual.pdf', 'page': 1}\n",
      "page_content='Read = 4\\nWrite = 2' metadata={'source': 'data/The One Page Linux Manual.pdf', 'page': 1}\n",
      "page_content='Execute = 1File permissions are altered by giving' metadata={'source': 'data/The One Page Linux Manual.pdf', 'page': 1}\n",
      "page_content='by giving the' metadata={'source': 'data/The One Page Linux Manual.pdf', 'page': 1}\n",
      "page_content='chmod command and the appropriate' metadata={'source': 'data/The One Page Linux Manual.pdf', 'page': 1}\n",
      "page_content='octal code for each user type. eg' metadata={'source': 'data/The One Page Linux Manual.pdf', 'page': 1}\n",
      "page_content='chmod 7 6 4 filename will make the file' metadata={'source': 'data/The One Page Linux Manual.pdf', 'page': 1}\n",
      "page_content='called filename R+W+X for the owner,' metadata={'source': 'data/The One Page Linux Manual.pdf', 'page': 1}\n",
      "page_content='R+W for the group and R for others.' metadata={'source': 'data/The One Page Linux Manual.pdf', 'page': 1}\n",
      "page_content='chmod 7 5 5 Full permission for the owner, read' metadata={'source': 'data/The One Page Linux Manual.pdf', 'page': 1}\n",
      "page_content='read and' metadata={'source': 'data/The One Page Linux Manual.pdf', 'page': 1}\n",
      "page_content='execute access for the group and others.' metadata={'source': 'data/The One Page Linux Manual.pdf', 'page': 1}\n",
      "page_content='chmod +x filename Make the file called filename' metadata={'source': 'data/The One Page Linux Manual.pdf', 'page': 1}\n",
      "page_content='filename executable' metadata={'source': 'data/The One Page Linux Manual.pdf', 'page': 1}\n",
      "page_content='to all users.\\nX Shortcuts - (mainly for Redhat)' metadata={'source': 'data/The One Page Linux Manual.pdf', 'page': 1}\n",
      "page_content='Control|Alt  + or - Increase or decrease the' metadata={'source': 'data/The One Page Linux Manual.pdf', 'page': 1}\n",
      "page_content='the screen' metadata={'source': 'data/The One Page Linux Manual.pdf', 'page': 1}\n",
      "page_content='resolution. eg. from 640x480 to\\n800x600' metadata={'source': 'data/The One Page Linux Manual.pdf', 'page': 1}\n",
      "page_content='Alt | escape Display list of active windows' metadata={'source': 'data/The One Page Linux Manual.pdf', 'page': 1}\n",
      "page_content='Shift|Control F8 Resize the selected window' metadata={'source': 'data/The One Page Linux Manual.pdf', 'page': 1}\n",
      "page_content='Right click on desktop\\nbackgroundDisplay menu' metadata={'source': 'data/The One Page Linux Manual.pdf', 'page': 1}\n",
      "page_content='Shift|Control Altr Refresh the screen' metadata={'source': 'data/The One Page Linux Manual.pdf', 'page': 1}\n",
      "page_content='Shift|Control Altx Start an xterm session\\nPrinting' metadata={'source': 'data/The One Page Linux Manual.pdf', 'page': 1}\n",
      "page_content='/etc/rc.d/init.d/lpd start Start the print daemon' metadata={'source': 'data/The One Page Linux Manual.pdf', 'page': 1}\n",
      "page_content='/etc/rc.d/init.d/lpd stop Stop the print daemon' metadata={'source': 'data/The One Page Linux Manual.pdf', 'page': 1}\n",
      "page_content='/etc/rc.d/init.d/lpd' metadata={'source': 'data/The One Page Linux Manual.pdf', 'page': 1}\n",
      "page_content='statusDisplay status of the print daemon' metadata={'source': 'data/The One Page Linux Manual.pdf', 'page': 1}\n",
      "page_content='lpq Display jobs in print queue' metadata={'source': 'data/The One Page Linux Manual.pdf', 'page': 1}\n",
      "page_content='lprm Remove jobs from queue\\nlpr Print a file' metadata={'source': 'data/The One Page Linux Manual.pdf', 'page': 1}\n",
      "page_content='lpc Printer control tool' metadata={'source': 'data/The One Page Linux Manual.pdf', 'page': 1}\n",
      "page_content='man subject | lpr Print the manual page called' metadata={'source': 'data/The One Page Linux Manual.pdf', 'page': 1}\n",
      "page_content='called subject' metadata={'source': 'data/The One Page Linux Manual.pdf', 'page': 1}\n",
      "page_content='as plain text' metadata={'source': 'data/The One Page Linux Manual.pdf', 'page': 1}\n",
      "page_content='man -t subject | lpr Print the manual page called' metadata={'source': 'data/The One Page Linux Manual.pdf', 'page': 1}\n",
      "page_content='called subject' metadata={'source': 'data/The One Page Linux Manual.pdf', 'page': 1}\n",
      "page_content='as Postscript output' metadata={'source': 'data/The One Page Linux Manual.pdf', 'page': 1}\n",
      "page_content='printtool Start X printer setup' metadata={'source': 'data/The One Page Linux Manual.pdf', 'page': 1}\n",
      "page_content='setup interface~/.Xdefaults Define configuration' metadata={'source': 'data/The One Page Linux Manual.pdf', 'page': 1}\n",
      "page_content='for some X -' metadata={'source': 'data/The One Page Linux Manual.pdf', 'page': 1}\n",
      "page_content='applications. ~ refers to user’s home\\ndirectory.' metadata={'source': 'data/The One Page Linux Manual.pdf', 'page': 1}\n",
      "page_content='Get your own Official Linux Pocket Protector -' metadata={'source': 'data/The One Page Linux Manual.pdf', 'page': 1}\n",
      "page_content='- includes' metadata={'source': 'data/The One Page Linux Manual.pdf', 'page': 1}\n",
      "page_content='handy command summary. Visit:' metadata={'source': 'data/The One Page Linux Manual.pdf', 'page': 1}\n",
      "page_content='www.powerup.com.au/~squadron' metadata={'source': 'data/The One Page Linux Manual.pdf', 'page': 1}\n"
     ]
    }
   ],
   "source": [
    "from langchain.document_loaders import PyPDFLoader\n",
    "from langchain.text_splitter import RecursiveCharacterTextSplitter\n",
    "\n",
    "# Load the PDF file\n",
    "loader = PyPDFLoader(file_name)\n",
    "pages = loader.load_and_split()\n",
    "# Split the text into chunks\n",
    "text_splitter = RecursiveCharacterTextSplitter(\n",
    "    chunk_size=50,\n",
    "    chunk_overlap=10,\n",
    "    length_function=len,\n",
    ")\n",
    "docs = text_splitter.split_documents(pages)\n",
    "\n",
    "for doc in docs:\n",
    "    print(doc)"
   ]
  },
  {
   "cell_type": "markdown",
   "metadata": {},
   "source": [
    "# Exploring the World of Embeddings\n",
    "\n",
    "## Introduction\n",
    ">\n",
    "Vector embeddings are among the most intriguing and beneficial aspects of machine learning, playing a pivotal role in many natural language processing, recommendation, and search algorithms. If you've interacted with recommendation engines, voice assistants, or language translators, you've engaged with systems that utilize embeddings.\n",
    "\n",
    "Embeddings are dense vector representations of data that encapsulate semantic information, making them suitable for various machine-learning tasks such as clustering, recommendation, and classification. They transform human-perceived semantic similarity into closeness in vector space and can be generated for different data types, including text, images, and audio.\n",
    "\n",
    "For text data, models like the GPT family of models and Llama are employed to create vector embeddings for words, sentences, or paragraphs. In the case of images, convolutional neural networks (CNNs) such as VGG and Inception can generate embeddings. Audio recordings can be converted into vectors using image embedding techniques applied to visual representations of audio frequencies, like spectrograms. Deep neural networks are commonly employed to train models that convert objects into vectors. The resulting embeddings are typically high-dimensional and dense.\n",
    "\n",
    "Embeddings are extensively used in similarity search applications, such as KNN and ANN, which require calculating distances between vectors to determine similarity. Nearest neighbor search can be employed for tasks like de-duplication, recommendations, anomaly detection, and reverse image search."
   ]
  },
  {
   "cell_type": "markdown",
   "metadata": {},
   "source": [
    "## Similarity search and vector embeddings \n",
    "\n",
    "OpenAI offers a powerful language model called GPT-3, which can be used for various tasks, such as generating embeddings and performing similarity searches. In this example, we'll use the OpenAI API to generate embeddings for a set of documents and then perform a similarity search using cosine similarity.\n",
    "\n",
    "Let's generate embeddings for our documents and perform a similarity search:"
   ]
  },
  {
   "cell_type": "code",
   "execution_count": 4,
   "metadata": {},
   "outputs": [
    {
     "name": "stdout",
     "output_type": "stream",
     "text": [
      "Most similar document to the query 'A cat is sitting on a mat.':\n",
      "The cat is on the mat.\n"
     ]
    }
   ],
   "source": [
    "import openai\n",
    "import numpy as np\n",
    "from sklearn.metrics.pairwise import cosine_similarity\n",
    "from langchain.embeddings import OpenAIEmbeddings\n",
    "\n",
    "# Define the documents\n",
    "documents = [\n",
    "    \"The cat is on the mat.\",\n",
    "    \"There is a cat on the mat.\",\n",
    "    \"The dog is in the yard.\",\n",
    "    \"There is a dog in the yard.\",\n",
    "]\n",
    "\n",
    "# Initialize the OpenAIEmbeddings instance\n",
    "embeddings = OpenAIEmbeddings(model=\"text-embedding-ada-002\")\n",
    "\n",
    "# Generate embeddings for the documents\n",
    "document_embeddings = embeddings.embed_documents(documents)\n",
    "\n",
    "# Perform a similarity search for a given query\n",
    "query = \"A cat is sitting on a mat.\"\n",
    "query_embedding = embeddings.embed_query(query)\n",
    "\n",
    "# Calculate similarity scores\n",
    "similarity_scores = cosine_similarity([query_embedding], document_embeddings)[0]\n",
    "\n",
    "# Find the most similar document\n",
    "most_similar_index = np.argmax(similarity_scores)\n",
    "most_similar_document = documents[most_similar_index]\n",
    "\n",
    "print(f\"Most similar document to the query '{query}':\")\n",
    "print(most_similar_document)\n"
   ]
  },
  {
   "cell_type": "markdown",
   "metadata": {},
   "source": [
    "**Embedding vectors** positioned near each other are regarded as similar. At times, they are directly applied to display related items in online shops. In other instances, they are incorporated into various models to share insights across akin items rather than considering them as entirely distinct entities. This renders embeddings effective in representing aspects like web browsing patterns, textual data, and e-commerce transactions for subsequent model applications.\n",
    "\n"
   ]
  },
  {
   "cell_type": "markdown",
   "metadata": {},
   "source": [
    "## Embedding Models\n",
    "\n",
    "Embedding models are a type of machine learning model that convert discrete data into continuous vectors. In the context of natural language processing, these discrete data points can be words, sentences, or even entire documents. The generated vectors, also known as embeddings, are designed to capture the semantic meaning of the original data.\n",
    "\n",
    "For instance, words that are semantically similar (e.g., 'cat' and 'kitten') would have similar embeddings. These embeddings are dense, which means that they use many dimensions (often hundreds) to capture nuances in meaning.\n",
    "\n",
    "The primary benefit of embeddings is that they allow us to use mathematical operations to reason about semantic meaning. For example, we can calculate the cosine similarity between two embeddings to assess how semantically similar the corresponding words or documents are."
   ]
  },
  {
   "cell_type": "code",
   "execution_count": 6,
   "metadata": {},
   "outputs": [
    {
     "data": {
      "application/vnd.jupyter.widget-view+json": {
       "model_id": "fe412161416b4826be9d041b47f6b04f",
       "version_major": 2,
       "version_minor": 0
      },
      "text/plain": [
       "(…)c16baf96765e2ecb20bca8e1d/.gitattributes:   0%|          | 0.00/1.18k [00:00<?, ?B/s]"
      ]
     },
     "metadata": {},
     "output_type": "display_data"
    },
    {
     "data": {
      "application/vnd.jupyter.widget-view+json": {
       "model_id": "866b7a644cc140b8b0d29ddc1c9b9890",
       "version_major": 2,
       "version_minor": 0
      },
      "text/plain": [
       "(…)6765e2ecb20bca8e1d/1_Pooling/config.json:   0%|          | 0.00/190 [00:00<?, ?B/s]"
      ]
     },
     "metadata": {},
     "output_type": "display_data"
    },
    {
     "data": {
      "application/vnd.jupyter.widget-view+json": {
       "model_id": "1f065ba771ac48f39e53f77f1aef0055",
       "version_major": 2,
       "version_minor": 0
      },
      "text/plain": [
       "(…)a1b43c16baf96765e2ecb20bca8e1d/README.md:   0%|          | 0.00/10.6k [00:00<?, ?B/s]"
      ]
     },
     "metadata": {},
     "output_type": "display_data"
    },
    {
     "data": {
      "application/vnd.jupyter.widget-view+json": {
       "model_id": "40b121979e884cdabf679c92d472605f",
       "version_major": 2,
       "version_minor": 0
      },
      "text/plain": [
       "(…)b43c16baf96765e2ecb20bca8e1d/config.json:   0%|          | 0.00/571 [00:00<?, ?B/s]"
      ]
     },
     "metadata": {},
     "output_type": "display_data"
    },
    {
     "data": {
      "application/vnd.jupyter.widget-view+json": {
       "model_id": "144c59d652c94d9fa719ba0426504eff",
       "version_major": 2,
       "version_minor": 0
      },
      "text/plain": [
       "(…)ca8e1d/config_sentence_transformers.json:   0%|          | 0.00/116 [00:00<?, ?B/s]"
      ]
     },
     "metadata": {},
     "output_type": "display_data"
    },
    {
     "data": {
      "application/vnd.jupyter.widget-view+json": {
       "model_id": "77800be9777e4ae6a18f8cc09986679d",
       "version_major": 2,
       "version_minor": 0
      },
      "text/plain": [
       "(…)6baf96765e2ecb20bca8e1d/data_config.json:   0%|          | 0.00/39.3k [00:00<?, ?B/s]"
      ]
     },
     "metadata": {},
     "output_type": "display_data"
    },
    {
     "data": {
      "application/vnd.jupyter.widget-view+json": {
       "model_id": "f46eddd140ce493bb97a7eac1814f1ec",
       "version_major": 2,
       "version_minor": 0
      },
      "text/plain": [
       "pytorch_model.bin:   0%|          | 0.00/438M [00:00<?, ?B/s]"
      ]
     },
     "metadata": {},
     "output_type": "display_data"
    },
    {
     "data": {
      "application/vnd.jupyter.widget-view+json": {
       "model_id": "15275387aec1412d84598a2c831c3550",
       "version_major": 2,
       "version_minor": 0
      },
      "text/plain": [
       "(…)e2ecb20bca8e1d/sentence_bert_config.json:   0%|          | 0.00/53.0 [00:00<?, ?B/s]"
      ]
     },
     "metadata": {},
     "output_type": "display_data"
    },
    {
     "data": {
      "application/vnd.jupyter.widget-view+json": {
       "model_id": "c0b27523200f4127a27d890d5adbceba",
       "version_major": 2,
       "version_minor": 0
      },
      "text/plain": [
       "(…)65e2ecb20bca8e1d/special_tokens_map.json:   0%|          | 0.00/239 [00:00<?, ?B/s]"
      ]
     },
     "metadata": {},
     "output_type": "display_data"
    },
    {
     "data": {
      "application/vnd.jupyter.widget-view+json": {
       "model_id": "e4c77036e0b24f84baa8b07ef843bbe5",
       "version_major": 2,
       "version_minor": 0
      },
      "text/plain": [
       "(…)c16baf96765e2ecb20bca8e1d/tokenizer.json:   0%|          | 0.00/466k [00:00<?, ?B/s]"
      ]
     },
     "metadata": {},
     "output_type": "display_data"
    },
    {
     "data": {
      "application/vnd.jupyter.widget-view+json": {
       "model_id": "8bc6b43cf06541e58ab03e20a28f0dc7",
       "version_major": 2,
       "version_minor": 0
      },
      "text/plain": [
       "(…)6765e2ecb20bca8e1d/tokenizer_config.json:   0%|          | 0.00/363 [00:00<?, ?B/s]"
      ]
     },
     "metadata": {},
     "output_type": "display_data"
    },
    {
     "data": {
      "application/vnd.jupyter.widget-view+json": {
       "model_id": "992d736fa903492e89b24bc40345170c",
       "version_major": 2,
       "version_minor": 0
      },
      "text/plain": [
       "(…)16baf96765e2ecb20bca8e1d/train_script.py:   0%|          | 0.00/13.1k [00:00<?, ?B/s]"
      ]
     },
     "metadata": {},
     "output_type": "display_data"
    },
    {
     "data": {
      "application/vnd.jupyter.widget-view+json": {
       "model_id": "e67009e7aef446c398734e77d57a89ca",
       "version_major": 2,
       "version_minor": 0
      },
      "text/plain": [
       "(…)a1b43c16baf96765e2ecb20bca8e1d/vocab.txt:   0%|          | 0.00/232k [00:00<?, ?B/s]"
      ]
     },
     "metadata": {},
     "output_type": "display_data"
    },
    {
     "data": {
      "application/vnd.jupyter.widget-view+json": {
       "model_id": "91137038e0e64a25928bced8cff5fb22",
       "version_major": 2,
       "version_minor": 0
      },
      "text/plain": [
       "(…)43c16baf96765e2ecb20bca8e1d/modules.json:   0%|          | 0.00/349 [00:00<?, ?B/s]"
      ]
     },
     "metadata": {},
     "output_type": "display_data"
    }
   ],
   "source": [
    "from langchain.llms import HuggingFacePipeline\n",
    "from langchain.embeddings import HuggingFaceEmbeddings\n",
    "\n",
    "model_name = \"sentence-transformers/all-mpnet-base-v2\"\n",
    "model_kwargs = {'device': 'cpu'}\n",
    "hf = HuggingFaceEmbeddings(model_name=model_name, model_kwargs=model_kwargs)\n",
    "\n",
    "documents = [\"Document 1\", \"Document 2\", \"Document 3\"]\n",
    "doc_embeddings = hf.embed_documents(documents)"
   ]
  },
  {
   "cell_type": "markdown",
   "metadata": {},
   "source": [
    "## Deep Lake Vector Store\n",
    "\n",
    "**Vector stores** are data structures or databases designed to store and manage high-dimensional vectors efficiently. They enable efficient similarity search, nearest neighbor search, and other vector-related operations. Vector stores can be built using various data structures such as approximate nearest neighbor (ANN) techniques, KD trees, or Vantage Point trees.\n",
    "\n",
    "**Deep Lake**, serves as both a data lake for deep learning and a multi-modal vector store. As a multi-modal vector store, it allows users to store images, audio, videos, text, and metadata in a format optimized for deep learning. It enables hybrid search, allowing users to search both embeddings and their attributes. \n",
    "\n",
    "Users can save data locally, in their cloud, or on Activeloop storage. Deep Lake supports the training of PyTorch and TensorFlow models while streaming data with minimal boilerplate code. It also provides features like version control, dataset queries, and distributed workloads using a simple Python API."
   ]
  },
  {
   "cell_type": "markdown",
   "metadata": {},
   "source": [
    "## Creating Deep Lake Vector Store embeddings example\n",
    "Deep Lake provides well-written documentation, and besides other examples for which they added Jupyter Notebooks, we can follow the one for vector store creation.\n",
    "\n",
    "This task aims to leverage the power of NLP technologies, particularly OpenAI and Deep Lake, to generate and manipulate high-dimensional embeddings. These embeddings can be used for a variety of purposes, such as searching for relevant documents, moderating content, and answering questions. In this case, we will create a Deep Lake database for a retrieval-based question-answering system."
   ]
  },
  {
   "cell_type": "markdown",
   "metadata": {},
   "source": [
    "- Next, the necessary modules from the langchain package are imported.\n",
    "- We then create some documents using the RecursiveCharacterTextSplitter class.\n",
    "- The next step is to create a Deep Lake database and load our documents into it.\n",
    "- We now create a retriever from the database.\n",
    "- Finally, we create a RetrievalQA chain in LangChain and run it\n",
    "\n",
    "\n"
   ]
  },
  {
   "cell_type": "code",
   "execution_count": 7,
   "metadata": {},
   "outputs": [
    {
     "name": "stderr",
     "output_type": "stream",
     "text": [
      "c:\\Users\\edumu\\anaconda3\\envs\\llm-lc\\lib\\site-packages\\deeplake\\util\\check_latest_version.py:32: UserWarning: A newer version of deeplake (3.8.0) is available. It's recommended that you update to the latest version using `pip install -U deeplake`.\n",
      "  warnings.warn(\n"
     ]
    },
    {
     "name": "stdout",
     "output_type": "stream",
     "text": [
      "Your Deep Lake dataset has been successfully created!\n",
      "This dataset can be visualized in Jupyter Notebook by ds.visualize() or at https://app.activeloop.ai/edumunozsala/langchain_course_embeddings\n",
      "hub://edumunozsala/langchain_course_embeddings loaded successfully.\n"
     ]
    },
    {
     "name": "stderr",
     "output_type": "stream",
     "text": [
      "Evaluating ingest: 100%|██████████| 1/1 [00:16<00:00\n",
      " \r"
     ]
    },
    {
     "name": "stdout",
     "output_type": "stream",
     "text": [
      "Dataset(path='hub://edumunozsala/langchain_course_embeddings', tensors=['embedding', 'ids', 'metadata', 'text'])\n",
      "\n",
      "  tensor     htype     shape     dtype  compression\n",
      "  -------   -------   -------   -------  ------- \n",
      " embedding  generic  (4, 1536)  float32   None   \n",
      "    ids      text     (4, 1)      str     None   \n",
      " metadata    json     (4, 1)      str     None   \n",
      "   text      text     (4, 1)      str     None   \n"
     ]
    },
    {
     "data": {
      "text/plain": [
       "'Michael Jordan was born on 17 February 1963.'"
      ]
     },
     "execution_count": 7,
     "metadata": {},
     "output_type": "execute_result"
    }
   ],
   "source": [
    "from langchain.embeddings.openai import OpenAIEmbeddings\n",
    "from langchain.vectorstores import DeepLake\n",
    "from langchain.text_splitter import RecursiveCharacterTextSplitter\n",
    "from langchain.chat_models import ChatOpenAI\n",
    "from langchain.chains import RetrievalQA\n",
    "\n",
    "# create our documents\n",
    "texts = [\n",
    "    \"Napoleon Bonaparte was born in 15 August 1769\",\n",
    "    \"Louis XIV was born in 5 September 1638\",\n",
    "    \"Lady Gaga was born in 28 March 1986\",\n",
    "    \"Michael Jeffrey Jordan was born in 17 February 1963\"\n",
    "]\n",
    "text_splitter = RecursiveCharacterTextSplitter(chunk_size=1000, chunk_overlap=0)\n",
    "docs = text_splitter.create_documents(texts)\n",
    "\n",
    "# initialize embeddings model\n",
    "embeddings = OpenAIEmbeddings(model=\"text-embedding-ada-002\")\n",
    "\n",
    "# create Deep Lake dataset\n",
    "my_activeloop_org_id = \"edumunozsala\"\n",
    "my_activeloop_dataset_name = \"langchain_course_embeddings\"\n",
    "dataset_path = f\"hub://{my_activeloop_org_id}/{my_activeloop_dataset_name}\"\n",
    "db = DeepLake(dataset_path=dataset_path, embedding_function=embeddings)\n",
    "\n",
    "# add documents to our Deep Lake dataset\n",
    "db.add_documents(docs)\n",
    "\n",
    "# create retriever from db\n",
    "retriever = db.as_retriever()\n",
    "\n",
    "# istantiate the llm wrapper\n",
    "model = ChatOpenAI(model='gpt-3.5-turbo')\n",
    "\n",
    "# create the question-answering chain\n",
    "qa_chain = RetrievalQA.from_llm(model, retriever=retriever)\n",
    "\n",
    "# ask a question to the chain\n",
    "qa_chain.run(\"When was Michael Jordan born?\")\n",
    "\n"
   ]
  },
  {
   "cell_type": "code",
   "execution_count": null,
   "metadata": {},
   "outputs": [],
   "source": []
  }
 ],
 "metadata": {
  "kernelspec": {
   "display_name": "llm-lc",
   "language": "python",
   "name": "python3"
  },
  "language_info": {
   "codemirror_mode": {
    "name": "ipython",
    "version": 3
   },
   "file_extension": ".py",
   "mimetype": "text/x-python",
   "name": "python",
   "nbconvert_exporter": "python",
   "pygments_lexer": "ipython3",
   "version": "3.10.11"
  }
 },
 "nbformat": 4,
 "nbformat_minor": 2
}
