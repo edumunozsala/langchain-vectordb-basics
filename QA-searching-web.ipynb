{
 "cells": [
  {
   "cell_type": "markdown",
   "metadata": {},
   "source": [
    "# Multiple Tools for Web-Based Question-Answering\n",
    "## Introduction\n",
    "\n",
    "As developers and information enthusiasts, we often find ourselves needing to utilize various tools and libraries to fetch and process data. By leveraging multiple tools simultaneously, we can create powerful, efficient, and comprehensive solutions for the systems we build with LangChain.  This lesson will demonstrate a practical example of combining the power of Google Search with the versatile Python-REPL tool for an effective result. You will learn how to harness the potential of multiple tools working together to streamline your own information retrieval projects.\n",
    "\n",
    "Let’s be more specific about what exactly we want to accomplish:\n",
    "\n",
    "Find the answer to a query by searching the web: The agent should use its tools and language model to identify the most relevant sources for it.\n",
    "Save the answer to a file: After retrieving the answer, the agent is expected to save it to a text file."
   ]
  },
  {
   "cell_type": "code",
   "execution_count": 1,
   "metadata": {},
   "outputs": [
    {
     "name": "stderr",
     "output_type": "stream",
     "text": [
      "Could not import azure.core python package.\n"
     ]
    }
   ],
   "source": [
    "from langchain.llms import OpenAI\n",
    "from langchain.agents import Tool, initialize_agent, AgentType\n",
    "\n",
    "from langchain.utilities import GoogleSearchAPIWrapper, PythonREPL"
   ]
  },
  {
   "cell_type": "markdown",
   "metadata": {},
   "source": [
    "We’re going to declare some wrappers. The GoogleSearchAPIWrapper wrapper allows us to easily create a tool for using the Google Search APIs, whereas the PythonREPL wrapper allows the model to execute generated Python code."
   ]
  },
  {
   "cell_type": "code",
   "execution_count": 2,
   "metadata": {},
   "outputs": [],
   "source": [
    "search = GoogleSearchAPIWrapper()\n",
    "python_repl = PythonREPL()"
   ]
  },
  {
   "cell_type": "markdown",
   "metadata": {},
   "source": [
    "Here we have our toolkit set assembled of:\n",
    "\n",
    "1. The google-search tool is a convenient way to perform Google searches when an agent needs information about current events. The tool makes use of Google's API to provide relevant search results.\n",
    "2. The python_repl tool: This tool wraps a Python shell, allowing the execution of Python commands directly.\n",
    "\n",
    "These tools are then added to the toolkit list, which is used to initialize an agent with the specified tools. The agent can then perform various tasks using the tools in its toolkit. The agent can be easily extended by adding more tools to the toolkit, allowing it to handle a wide range of tasks and situations. Let’s instantiate the agent."
   ]
  },
  {
   "cell_type": "code",
   "execution_count": 3,
   "metadata": {},
   "outputs": [],
   "source": [
    "llm = OpenAI(model=\"text-davinci-003\", temperature=0)\n",
    "\n",
    "toolkit = [\n",
    "    Tool(\n",
    "        name=\"google-search\",\n",
    "        func=search.run,\n",
    "        description=\"useful for when you need to search Google to answer questions about current events\"\n",
    "    ),\n",
    "    Tool(\n",
    "        name=\"python_repl\",\n",
    "        description=\"A Python shell. Use this to execute Python commands. Input should be a valid Python command. Useful for saving strings to files.\",\n",
    "        func=python_repl.run\n",
    "    )\n",
    "]\n",
    "\n",
    "agent = initialize_agent(\n",
    "\ttoolkit,\n",
    "\tllm,\n",
    "\tagent=AgentType.ZERO_SHOT_REACT_DESCRIPTION,\n",
    "\tverbose=True\n",
    ")"
   ]
  },
  {
   "cell_type": "markdown",
   "metadata": {},
   "source": [
    "The parameter agent=AgentType.ZERO_SHOT_REACT_DESCRIPTION specifies the agent's strategy, which means that the agent will attempt to perform tasks without any prior examples, relying solely on its understanding of the problem description and the available tools (and their descriptions).\n",
    "\n",
    "Now let’s run the experiment! We should be able to ask the Agent directly by giving him instructions on what we want:"
   ]
  },
  {
   "cell_type": "code",
   "execution_count": 4,
   "metadata": {},
   "outputs": [
    {
     "name": "stdout",
     "output_type": "stream",
     "text": [
      "\n",
      "\n",
      "\u001b[1m> Entering new AgentExecutor chain...\u001b[0m\n",
      "\u001b[32;1m\u001b[1;3m I need to search for the birth date of Napoleon Bonaparte.\n",
      "Action: google-search\n",
      "Action Input: \"Napoleon Bonaparte birth date\"\u001b[0m\n",
      "Observation: \u001b[36;1m\u001b[1;3mNapoleon Bonaparte (born Napoleone Bonaparte; 15 August 1769 – 5 May ... Dates. Royal assent, 11 April 1816. Commencement, 11 April 1816. Repealed, 5 ... He was the second of eight children born to Carlo Buonaparte, a lawyer descended from Tuscan nobility, and his young wife Maria-Letizia Ramolino. At the time of ... Nov 9, 2009 ... Born on the island of Corsica, Napoleon rapidly rose through the ranks of the military during the French Revolution (1789-1799). After seizing ... On 15 August 1769, Napoleon Bonaparte was born in Ajaccio, in Corsica, into a aristocratic family. He parents, Charles and Letizia already had one son, ... Napoleon was born on Corsica shortly after the island's cession to France by the Genoese. He was the fourth, and second surviving, child of Carlo Buonaparte, a ... ... Napoleon's birthday. Furthermore, Charles Bonaparte's “journal” notes the birth on 15 August 1769. It is true that Napoleon very occasionally used the ... On the 15th of August 1769 in the French-occupied capital of Corsica, Ajaccio, Napoleon was born to his father Carlo Maria di Buonaparte, and his mother, ... Napoleon Bonaparte was born on August 15, 1769. He was most notably known as a French military and political leader, who became prominent during the French ... Napoleon Bonaparte was born the 15th of August, 1769 on Corsica, just three months after the island had been defeated by the French. Jun 23, 2002 ... Napoleon Bonaparte was born at Ajaccio, Corsica, on 15 August 1769. ... Napoleon the individual argued about his origins and his date of birth.\u001b[0m\n",
      "Thought:\u001b[32;1m\u001b[1;3m I need to save the birth date to a file.\n",
      "Action: python_repl\n",
      "Action Input: with open('answer.txt', 'w') as f: f.write('August 15, 1769')\u001b[0m\n",
      "\n",
      "Observation: \u001b[33;1m\u001b[1;3m\u001b[0m\n",
      "Thought:\u001b[32;1m\u001b[1;3m I now know the final answer.\n",
      "Final Answer: Napoleon Bonaparte was born on August 15, 1769.\u001b[0m\n",
      "\n",
      "\u001b[1m> Finished chain.\u001b[0m\n"
     ]
    },
    {
     "data": {
      "text/plain": [
       "'Napoleon Bonaparte was born on August 15, 1769.'"
      ]
     },
     "execution_count": 4,
     "metadata": {},
     "output_type": "execute_result"
    }
   ],
   "source": [
    "agent.run(\"Find the birth date of Napoleon Bonaparte and save it to a file 'answer.txt'.\")"
   ]
  },
  {
   "cell_type": "code",
   "execution_count": 5,
   "metadata": {},
   "outputs": [
    {
     "name": "stdout",
     "output_type": "stream",
     "text": [
      "\n",
      "\n",
      "\u001b[1m> Entering new AgentExecutor chain...\u001b[0m\n",
      "\u001b[32;1m\u001b[1;3m I need to find the date of Napoleon's death and then save it to a file.\n",
      "Action: google-search\n",
      "Action Input: \"When did Napoleon Bonaparte die?\"\u001b[0m\n",
      "Observation: \u001b[36;1m\u001b[1;3mNapoleon Bonaparte later known by his regnal name Napoleon I, was a French military commander and political leader who rose to prominence during the French ... Aug 15, 2022 ... Napoleon was only 51 when he died on the island of St. Helena, where he was out of power and exiled from his beloved France. By May 5, 1821 ... Apr 25, 2014 ... Napoleon Bonaparte died at 5.49pm on 5 May 1821, at Longwood on the island of Saint Helena. An autopsy was carried out on 6 May; ... Jan 17, 2007 ... Jan. 17, 2007&#151; -- Napoleon Bonaparte died in exile in 1821. But his story never does. His personal physician reported on his death ... Mar 3, 2010 ... Napoleon Bonaparte, the former French ruler who once ruled an empire that stretched across Europe, dies as a British prisoner on the remote ... Jan 21, 2014 ... Was Napoleon poisoned ... Napoleon himself fueled suspicion, writing in his will a mere three weeks before his demise at age 51, “I die before my ... Nov 9, 2009 ... In October 1815, Napoleon was exiled to the remote, British-held island of Saint Helena, in the South Atlantic Ocean. He died there on May 5, ... It was during Napoleon's year in Paris that his father died of a stomach cancer in ... Napoleon Bonaparte, as he may henceforth be called (though the family did ... Nov 14, 2022 ... On May 5, 1821 he passed away at age 51. What Killed Napoleon Bonaparte? Sep 19, 2023 ... How did Napoleon III die? At the Battle of Sedan, Napoleon III tried ... He was the third son of Napoleon I's brother Louis Bonaparte, who was ...\u001b[0m\n",
      "Thought:\u001b[32;1m\u001b[1;3m I have the answer to the question.\n",
      "Action: python_repl\n",
      "Action Input: with open('answer.txt', 'a') as f: f.write('Napoleon Bonaparte died on May 5, 1821')\u001b[0m\n",
      "\n",
      "Observation: \u001b[33;1m\u001b[1;3m\u001b[0m\n",
      "Thought:\u001b[32;1m\u001b[1;3m The information has been saved to the file.\n",
      "Final Answer: Napoleon Bonaparte died on May 5, 1821.\u001b[0m\n",
      "\n",
      "\u001b[1m> Finished chain.\u001b[0m\n"
     ]
    },
    {
     "data": {
      "text/plain": [
       "'Napoleon Bonaparte died on May 5, 1821.'"
      ]
     },
     "execution_count": 5,
     "metadata": {},
     "output_type": "execute_result"
    }
   ],
   "source": [
    "query = \"Find when Napoleon Bonaparte died and append this information \" \\\n",
    "    \"to the content of the 'answer.txt' file in a new line.\"\n",
    "\n",
    "agent.run(query)"
   ]
  },
  {
   "cell_type": "code",
   "execution_count": null,
   "metadata": {},
   "outputs": [],
   "source": []
  }
 ],
 "metadata": {
  "kernelspec": {
   "display_name": "llm-lc",
   "language": "python",
   "name": "python3"
  },
  "language_info": {
   "codemirror_mode": {
    "name": "ipython",
    "version": 3
   },
   "file_extension": ".py",
   "mimetype": "text/x-python",
   "name": "python",
   "nbconvert_exporter": "python",
   "pygments_lexer": "ipython3",
   "version": "3.10.11"
  }
 },
 "nbformat": 4,
 "nbformat_minor": 2
}
